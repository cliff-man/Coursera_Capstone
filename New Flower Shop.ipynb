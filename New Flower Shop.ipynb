{
    "nbformat_minor": 1, 
    "cells": [
        {
            "source": "# IBM Data Science Capstone Project", 
            "cell_type": "markdown", 
            "metadata": {
                "collapsed": true
            }
        }, 
        {
            "source": "## Identify Good Locations to Open New Flower Shop\n\n### 1. Background\nIn this capstone project, I will be using data from **Foursquare API** (https://developer.foursquare.com/docs/api) to identify good locations for opening a flower shop in the Sydney city area. By observing the neigbourhoods of existing flower shops and find other locations with high similarity with existing businesses but have no or less competition.", 
            "cell_type": "markdown", 
            "metadata": {}
        }, 
        {
            "source": "### 2. Problem Description\nIt is always difficult to open or expand a business in a location which we are not so familar with. We may already have a good understanding on the type of businesses that we want to start, but the characteristics of another location which may be completely different. For example, a florist who wants to start her own business might had already worked in a flower shop for a number of years, she knows her regular customers well, how busy the area, etc. While it is almost impossible to spend time researching all different areas, using data analysis would be a good starting point to identify locations which have higher chance of success, at least to identify locations which have higher similarity with other flower shops which keep running.\n", 
            "cell_type": "markdown", 
            "metadata": {}
        }, 
        {
            "source": "### 3. Data\n\n\n#### 3.1. Data Description\nTo set this project in a more manageable scope, we have limited the target locations to be the surrounding areas (within 1km) of all train stations within 50km of the Sydney CBD (*atitude: -33.865143, longitude:151.209900*). The rationale for choosing surrounding areas of train stations is because higher pedestrian traffic are in general more favorable for operating flower shop business.\n\nAll data sources will be sourced from the Foursquare API. We will obtain the geolocations as well as other venue data e.g. type of venues within the **target area**  to identify the similarity of each surrounding areas.\n\n\n#### 3.1. Data to Collect\n1. Train stations geographic data in the target area.\n2. Flower shops location data within 1km of all train stations.\n3. Other neighbourhood data i.e. types of venues within 1km of all train stations (to classify locations with similarities)", 
            "cell_type": "markdown", 
            "metadata": {}
        }, 
        {
            "source": "### 4. Problem Solving Approach\n\nTo solve the identifying shop location problem, the approach of using the data would be:\n1. After collecting the neighourboods data i.e. types of venues of different train stations, perform **one hot encoding** to encode the \"surrounding neighourboods\" of each train station.\n2. Using *k*-mean clustering to put each train stations in a cluster. Stations should have high similarity with others within it.\n3. Calculating the average concentration of flower shops in each cluster and identify the cluster with the highest density of flower shops (**best cluster**).\n4. Within the **best cluster**, find out the locations with no or least number of flower shop as the **target locations**.", 
            "cell_type": "markdown", 
            "metadata": {}
        }
    ], 
    "metadata": {
        "kernelspec": {
            "display_name": "Python 3.6", 
            "name": "python3", 
            "language": "python"
        }, 
        "language_info": {
            "mimetype": "text/x-python", 
            "nbconvert_exporter": "python", 
            "version": "3.6.8", 
            "name": "python", 
            "file_extension": ".py", 
            "pygments_lexer": "ipython3", 
            "codemirror_mode": {
                "version": 3, 
                "name": "ipython"
            }
        }
    }, 
    "nbformat": 4
}